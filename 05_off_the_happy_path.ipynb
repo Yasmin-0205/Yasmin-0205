{
 "cells": [
  {
   "cell_type": "markdown",
   "id": "05ac9f61",
   "metadata": {},
   "source": [
    "# Computer Programming"
   ]
  },
  {
   "cell_type": "markdown",
   "id": "d73f073b",
   "metadata": {},
   "source": [
    "## Programs 4: Leaving the Happy Path\n",
    "\n",
    "So far we have been writing programs that follow the _Happy Path_. This means that we have been assuming that the user will\n",
    "enter values that are useful and that the program will not encounter any problems. This is a good way to start, as it allows us\n",
    "to focus on the basic structure of the program without getting bogged down in error handling and other complexities.\n",
    "\n",
    "As we will see, a lot of code in a program is devoted to handling errors and unexpected situations. This is an important part of programming, but it can also make the code more complex and harder to read. \n",
    "\n",
    "Coding the Happy Path first is a common way to develop a new system. Users can give feeback on how things look, and the system can be changed if needed. It is also a useful way to allow error conditions to emerge, as the Happy Path is tested.\n",
    "\n",
    "In the programs below, we will leave the Happy Path and start to handle errors and unexpected situations. But first, the usual\n",
    "practice."
   ]
  },
  {
   "cell_type": "markdown",
   "id": "2af192fa",
   "metadata": {},
   "source": [
    "As usual, once finished, make sure this Notebook ends up in your GitHub repo. You should know the commands by now!"
   ]
  },
  {
   "cell_type": "markdown",
   "id": "d32abbd2",
   "metadata": {},
   "source": [
    "## Practice\n",
    "\n",
    "Remember that there are two ways to handle errors. We can test the data before we process it (that's _Look Before You Leap_), or we can handle the error when it occurs (that's _Easier to Ask for Forgiveness than Permission_). We will see both approaches in this Notebook.\n",
    "\n",
    "As usual, where program code is needed, create code blocks below each Markdown block below. You will need a few!"
   ]
  },
  {
   "cell_type": "markdown",
   "id": "0b5d8cac",
   "metadata": {},
   "source": [
    "_What statement introduces a conditional statement in Python?_"
   ]
  },
  {
   "cell_type": "code",
   "execution_count": null,
   "id": "47525c7d",
   "metadata": {},
   "outputs": [],
   "source": [
    "number = 0\n",
    "\n",
    "if number>= 0:\n",
    "    number = 1\n",
    "elif number == 0:\n",
    "    number = 2\n",
    "else:\n",
    "    number = 2"
   ]
  },
  {
   "cell_type": "markdown",
   "id": "7fbaeab1",
   "metadata": {},
   "source": [
    "_And how is this used to handle two possible situations? Three? Four?_"
   ]
  },
  {
   "cell_type": "markdown",
   "id": "2b541f3d",
   "metadata": {},
   "source": [
    "_And what structure allows for an EAFP approach?_"
   ]
  },
  {
   "cell_type": "code",
   "execution_count": null,
   "id": "6e819fbe",
   "metadata": {},
   "outputs": [],
   "source": [
    "try:\n",
    "    pass\n",
    "except NameError:\n",
    "    print('Something went wrong')"
   ]
  },
  {
   "cell_type": "markdown",
   "id": "889e1db6",
   "metadata": {},
   "source": [
    "_Use a conditional to read a string from `input` and display whether or not it is longer than four characters._"
   ]
  },
  {
   "cell_type": "code",
   "execution_count": null,
   "id": "8887407c",
   "metadata": {},
   "outputs": [
    {
     "name": "stdout",
     "output_type": "stream",
     "text": [
      "Stringis not longer than 4 characters\n"
     ]
    }
   ],
   "source": [
    "some_string = input('Enter something: ')\n",
    "if len(some_string) > 4:\n",
    "    print('String is longer than 4 characters')\n",
    "\n",
    "else:\n",
    "    print('Stringis not longer than 4 characters')"
   ]
  },
  {
   "cell_type": "markdown",
   "id": "ade4cb10",
   "metadata": {},
   "source": [
    "_And to a string from `input` and display whether or not it starts with an uppercase letter._"
   ]
  },
  {
   "cell_type": "code",
   "execution_count": null,
   "id": "999870a2",
   "metadata": {},
   "outputs": [
    {
     "name": "stdout",
     "output_type": "stream",
     "text": [
      "String does not start uppercase\n"
     ]
    }
   ],
   "source": [
    "some_string = input('Enter something')\n",
    "\n",
    "if some_string[0].isupper():\n",
    "    print('String starts uppercase')\n",
    "\n",
    "else:\n",
    "    print('String does not start uppercase')"
   ]
  },
  {
   "cell_type": "markdown",
   "id": "8c7e29b6",
   "metadata": {},
   "source": [
    "_**Small Challenge**_\n",
    "\n",
    "_Read a string from input and display whether or not the user actually entered anything!_"
   ]
  },
  {
   "cell_type": "code",
   "execution_count": null,
   "id": "b1937140",
   "metadata": {},
   "outputs": [
    {
     "name": "stdout",
     "output_type": "stream",
     "text": [
      "Something was entered\n"
     ]
    }
   ],
   "source": [
    "some_string = input('Enter something')\n",
    "\n",
    "if some_string:\n",
    "    print('Something was entered')\n",
    "\n",
    "    "
   ]
  },
  {
   "cell_type": "code",
   "execution_count": null,
   "id": "b9b67aa3",
   "metadata": {},
   "outputs": [],
   "source": [
    "while True:\n",
    "    some_string = input('Enter something')"
   ]
  },
  {
   "cell_type": "markdown",
   "id": "529ca3f4",
   "metadata": {},
   "source": [
    "_Write a short program that prompts the user to enter an integer, and displays whether or not they really did (that is, whether what they entered really was an integer)._"
   ]
  },
  {
   "cell_type": "markdown",
   "id": "aff221f0",
   "metadata": {},
   "source": [
    "_Now read an integer, and determine whether or not it was zero. Give an error if an integer was not entered. You'll need at least two checks._"
   ]
  },
  {
   "cell_type": "markdown",
   "id": "b4c2dcc8",
   "metadata": {},
   "source": [
    "_Last time you wrote a loop to add up the numbers from 1 to 10 inclusive. Change that (add the new code below) so that the upper limit is entered.\n",
    "Trap the possible errors (there will be a few!)_"
   ]
  },
  {
   "cell_type": "markdown",
   "id": "d5183b30",
   "metadata": {},
   "source": [
    "_And finish by extending the last code so that the lower and upper limits are both entered. There is now an extra error case. (Don't worry too much about getting exact error messages.)_"
   ]
  },
  {
   "cell_type": "markdown",
   "id": "fdd69b35",
   "metadata": {},
   "source": [
    "## Programs\n",
    "\n",
    "Here we go. As you work through these pay attention to when we use EAFP and when we use LBYL. Sometimes there is a choice. Other times there is really only one way. If there *is* a choice, EAFP is often neatest.\n",
    "\n",
    "And some of the programs here are going to be quite long. Remember to pay attention to the names of variables, so that it's obvious what your program is doing. Blank lines can also help show the structure. A good program should look *good*."
   ]
  },
  {
   "cell_type": "markdown",
   "id": "7f95c97d",
   "metadata": {},
   "source": [
    "_Last time, we had a program that converted litres to pints. Let's convert miles to kilometres this time. Of course, you can't have a negative mile, so the program will need to check the value entered for the number of miles (LBYL) and only display the result if the value entered is greater than or equal to zero._\n",
    "\n",
    "_Once that is working, have the code display an error message if an invalid value is entered._"
   ]
  },
  {
   "cell_type": "code",
   "execution_count": null,
   "id": "20b1834c",
   "metadata": {},
   "outputs": [],
   "source": [
    "miles = int(input('Enter a distance in miles: '))\n",
    "kilometres = miles * 1.609344\n",
    "\n",
    "print(f'{miles} miles is {kilometres: .2f} kilometres.')"
   ]
  },
  {
   "cell_type": "code",
   "execution_count": null,
   "id": "1f777e7d",
   "metadata": {},
   "outputs": [],
   "source": [
    "try:\n",
    "    miles = int(input('Enter a distance in miles: '))\n",
    "\n",
    "    if miles >= 0:\n",
    "        kilometres = miles * 1.606344\n",
    "\n",
    "        print(f'{miles} miles is {kilometres: .2f} kilometres.')\n",
    "    else:\n",
    "        print('Cannot have negative miles!')\n",
    "\n",
    "except ValueError:\n",
    "        print('Cannot convert miles to kilometres!')\n",
    "except ZeroDivisionError:\n",
    "     print('Must have at least one student! ')"
   ]
  },
  {
   "cell_type": "markdown",
   "id": "4e77007f",
   "metadata": {},
   "source": [
    "_Did you assume that the user would enter a number? Probably! If you run the code again and enter a string you will see that the it crashes because it cannot convert the string to a number. This is a case where we can use EAFP to catch the error if it happens. You can see from the output that the error is a `ValueError`. Amend the code (enter it below) to `try` the calculation and display an errot message if the `except`ion is detected._"
   ]
  },
  {
   "cell_type": "code",
   "execution_count": null,
   "id": "0cbfb1cd",
   "metadata": {},
   "outputs": [],
   "source": []
  },
  {
   "cell_type": "markdown",
   "id": "cc9ecc5a",
   "metadata": {},
   "source": [
    "_Suppose a kindly teacher has some sweets to share between a class of students (it can happen). Write a program below that takes twp inputs - the number of sweets and the number of students (both integers), and displays how many sweets each student gets (everyone gets the same), and how many will be left over for the teacher._\n",
    "\n",
    "_Code the Happy Path first, in the box below._"
   ]
  },
  {
   "cell_type": "code",
   "execution_count": null,
   "id": "b847b7d4",
   "metadata": {},
   "outputs": [],
   "source": [
    "try:  \n",
    "        number_of_sweets = int(input('Enter number of sweets: '))\n",
    "\n",
    "        if number_of_sweets >= 0:\n",
    "            number_of_students = int(input('Enter number of students: '))\n",
    "            \n",
    "            if number_of_students >= 0:\n",
    "                sweets_per_students = number_of_sweets // number_of_students\n",
    "                sweets_left_over = number_of_sweets % number_of_students\n",
    "\n",
    "                if sweets_per_students == 1:       \n",
    "                    print(f'Each student gets {sweets_per_students} sweets.')\n",
    "                else:\n",
    "                    print(f'There will be {sweets_left_over} sweets left. ')\n",
    "\n",
    "                if sweets_left_over == 1:\n",
    "                    print(f'There will be {sweets_left_over} sweet left')\n",
    "                else:\n",
    "                    print(f'There will be {sweets_left_over} sweets left!')\n",
    "\n",
    "        else:\n",
    "            print('Cannot have negative number of students! ')\n",
    "    else:\n",
    "        print('Cannot have negative number of sweets' )\n",
    "\n",
    "except ValueError:\n",
    " print('Integer Value required!')"
   ]
  },
  {
   "cell_type": "markdown",
   "id": "7e196ff5",
   "metadata": {},
   "source": [
    "_Now for some LBYL. We can't have negative values for the sweets or students. Zero would make sense, though. So add code now to detect these error cases and display a message. Can you get a different message for each case?_\n",
    "\n",
    "_For full marks here (!), the program should really not ask for the number of students if the number of sweets is invalid._"
   ]
  },
  {
   "cell_type": "code",
   "execution_count": null,
   "id": "6367b6c1",
   "metadata": {},
   "outputs": [],
   "source": []
  },
  {
   "cell_type": "markdown",
   "id": "105bb82f",
   "metadata": {},
   "source": [
    "_You can probably see by now how error-checking code can obscure what's really going on. There are still other errors possible here - what happens if the user enters a value that cannot be converted into an integer? Add some EAFP code to trap this (it will be enough to catch the Exception once, from either of the places it could be thrown)._"
   ]
  },
  {
   "cell_type": "code",
   "execution_count": null,
   "id": "47a005a8",
   "metadata": {},
   "outputs": [],
   "source": []
  },
  {
   "cell_type": "markdown",
   "id": "bc6154e9",
   "metadata": {},
   "source": [
    "_There's still another error. 0 sweets is fine, even though it would just be a sad day. But 0 students will make the program crash when it tries to divide by zero. We could use EAFP or LBYL here, but EAFP will be neater, and will keep the code out of the way. After all, trying to divide something between no-one is not very likely. If you try to enter a zero you will see it's a `ZeroDivisionError` that needs to be caught. Add that in (it's just two more lines) below._"
   ]
  },
  {
   "cell_type": "code",
   "execution_count": null,
   "id": "e625d1f1",
   "metadata": {},
   "outputs": [],
   "source": []
  },
  {
   "cell_type": "markdown",
   "id": "26c2db0d",
   "metadata": {},
   "source": [
    "_Programming is all about spotting patterns. Recognising that a new problem is actually one you have seen before._\n",
    "\n",
    "_Below, write code that would take two inputs, which are marks on a test, scored on a scale of 0 to 100. Both is worth 50%, so the overall mark is just the average. Your code should display the overall grade (`round` the average)._\n",
    "\n",
    "_**Start with the Happy Path.** _Then spot and add code for the various possible errors._ _Add more code blocks to the Notebook if you want._ Add more Markdown blocks to help you work out the problem if it helps._"
   ]
  },
  {
   "cell_type": "code",
   "execution_count": null,
   "id": "615241b3",
   "metadata": {},
   "outputs": [],
   "source": []
  },
  {
   "cell_type": "code",
   "execution_count": null,
   "id": "bcd9d708",
   "metadata": {},
   "outputs": [],
   "source": []
  },
  {
   "cell_type": "code",
   "execution_count": null,
   "id": "58fcf157",
   "metadata": {},
   "outputs": [],
   "source": []
  },
  {
   "cell_type": "markdown",
   "id": "08a034ba",
   "metadata": {},
   "source": [
    "_Note: Another programming trick is to think that there really must be a built-in way to do that. The average is one. Take a look at https://docs.python.org/3/library/statistics.html and you'll find it._"
   ]
  },
  {
   "cell_type": "markdown",
   "id": "c0513814",
   "metadata": {},
   "source": [
    "### Challenge\n",
    "\n",
    "_Here is a classic programming problem._\n",
    "\n",
    "_Write a program that takes two inputs, the total amount of a restaurant bill, and the amount tendered by the customer. The first output should be the total change due._\n",
    "\n",
    "_The inputs here are floating-point, to represent money. Don't worry if there are too many decimal places entered!_\n",
    "\n",
    "_Think about the error conditions here. Most we have seen before, but there is a new one. What should happen if the amount tendered is not enough to pay the bill?_\n",
    "\n",
    "_But remember **abstraction**. This problem is actually not far off one of the examples right up the top._\n",
    "\n",
    "__You may want to add extra code blocks below so that you can work on versions of this program. That would probably be a very good idea, in fact!__"
   ]
  },
  {
   "cell_type": "code",
   "execution_count": null,
   "id": "9be79ad7",
   "metadata": {},
   "outputs": [],
   "source": []
  },
  {
   "cell_type": "code",
   "execution_count": null,
   "id": "78547d10",
   "metadata": {},
   "outputs": [],
   "source": []
  },
  {
   "cell_type": "markdown",
   "id": "7eb51119",
   "metadata": {},
   "source": [
    "_Finish this week by creating a program to show the best way to provide the change, in the smallest possible number of notes and coins.Your program should take as input the amount of change to be given, and then output how to make the change._\n",
    "\n",
    "_We'll assume that the change will just be given in coins. Coins exist for £2, £1, 50p, 20p, 10p, 5p, 2p, 1p._\n",
    "\n",
    "_Hint: Although the number entered will be floating point, it will probably be easiest to convert it into an integer (the amount of pennies). Ignore the issue of more than two decimal places._\n",
    "\n",
    "_Another Hint: If you find yourself writing a program with about 10 `if` statements you should pause and think about whether there is a better way. (There is.)_"
   ]
  },
  {
   "cell_type": "code",
   "execution_count": null,
   "id": "555af601",
   "metadata": {},
   "outputs": [],
   "source": []
  },
  {
   "cell_type": "markdown",
   "id": "bb607b8c",
   "metadata": {},
   "source": [
    "_Don't worry if you find this last program challenging. To get started, think about how you would work it out in real life. You would start with the biggest note or coin, see how many of those you could use, knock that off the amount, and work down until you had the total needed. That sounds like a loop._\n",
    "\n",
    "_And if you really can't see a neat solution, ask your friendly tutor!_"
   ]
  },
  {
   "cell_type": "markdown",
   "id": "e4ef1919",
   "metadata": {},
   "source": [
    "## Reflection\n",
    "\n",
    "There is a lot here.\n",
    "\n",
    "If this Notebook takes a while, don't panic. If you're in doubt about anything - ask!"
   ]
  }
 ],
 "metadata": {
  "kernelspec": {
   "display_name": "Python 3",
   "language": "python",
   "name": "python3"
  },
  "language_info": {
   "codemirror_mode": {
    "name": "ipython",
    "version": 3
   },
   "file_extension": ".py",
   "mimetype": "text/x-python",
   "name": "python",
   "nbconvert_exporter": "python",
   "pygments_lexer": "ipython3",
   "version": "3.13.3"
  }
 },
 "nbformat": 4,
 "nbformat_minor": 5
}
